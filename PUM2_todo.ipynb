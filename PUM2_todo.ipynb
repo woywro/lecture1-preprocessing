{
  "nbformat": 4,
  "nbformat_minor": 0,
  "metadata": {
    "colab": {
      "provenance": []
    },
    "kernelspec": {
      "name": "python3",
      "display_name": "Python 3"
    },
    "language_info": {
      "name": "python"
    }
  },
  "cells": [
    {
      "cell_type": "markdown",
      "source": [
        "Pobierz dane dotyczące scoringu kredytowego\n",
        "\n",
        "*Pracujesz jako analityk danych w globalnej firmie finansowej. Przez lata firma gromadziła podstawowe dane bankowe i wiele informacji związanych z kredytami. Kierownictwo chce zbudować inteligentny system do segregowania ludzi w przedziałach oceny kredytowej, aby zmniejszyć wysiłek ręczny.*\n",
        "\n",
        "**Zadanie na dziś: przygotować dane do modelu**"
      ],
      "metadata": {
        "id": "Y22vMBZYIAcJ"
      }
    },
    {
      "cell_type": "code",
      "source": [
        "#import necessary libraries\n",
        "import pandas as pd\n",
        "import numpy as np\n",
        "import matplotlib.pyplot as plt\n",
        "import seaborn as sns\n",
        "from sklearn.preprocessing import LabelEncoder\n",
        "from sklearn.preprocessing import MultiLabelBinarizer"
      ],
      "metadata": {
        "id": "GN2L8mZzLgao"
      },
      "execution_count": null,
      "outputs": []
    },
    {
      "cell_type": "markdown",
      "source": [
        "import danych"
      ],
      "metadata": {
        "id": "GQ7bAnsLLg_X"
      }
    },
    {
      "cell_type": "code",
      "execution_count": null,
      "metadata": {
        "id": "NJSWu_jIRZcq"
      },
      "outputs": [],
      "source": [
        "# pip install kagglehub[pandas-datasets]\n",
        "import kagglehub\n",
        "from kagglehub import KaggleDatasetAdapter\n",
        "\n",
        "# Set the path to the file you'd like to load\n",
        "file_path = \"train.csv\"\n",
        "\n",
        "# Load the latest version\n",
        "df = kagglehub.load_dataset(KaggleDatasetAdapter.PANDAS, \"parisrohan/credit-score-classification\", file_path,\n",
        ")\n",
        "\n",
        "print(\"First 5 records:\", df.head())"
      ]
    },
    {
      "cell_type": "markdown",
      "source": [
        "**Poznaj dane:**\n",
        "\n",
        "1.   sprawdź wymiary i typy kolumn\n",
        "2.   usuń duplikaty\n",
        "3.   usuń zdbędne kolumny\n",
        "4.   sprawdz liczbę braków danych w poszczególnych kolumnach\n",
        "\n",
        "\n",
        "\n",
        "\n"
      ],
      "metadata": {
        "id": "dpBXHVnkIaSl"
      }
    },
    {
      "cell_type": "code",
      "source": [],
      "metadata": {
        "id": "Hbjbg0-mk9zP"
      },
      "execution_count": null,
      "outputs": []
    },
    {
      "cell_type": "markdown",
      "source": [
        "Usuń kolumny, które nie będą wykorzystywane w analizie ['ID','Customer_ID','SSN','Name']"
      ],
      "metadata": {
        "id": "NZBCT7FgiS03"
      }
    },
    {
      "cell_type": "code",
      "source": [],
      "metadata": {
        "id": "EOrkOWizk_eR"
      },
      "execution_count": null,
      "outputs": []
    },
    {
      "cell_type": "markdown",
      "source": [
        "usuń niektore z zbędnych znakow ('_','-'), zmień puste komorki na nan"
      ],
      "metadata": {
        "id": "yFjng3YXNFyk"
      }
    },
    {
      "cell_type": "code",
      "source": [],
      "metadata": {
        "id": "2G0a50DHlGvX"
      },
      "execution_count": null,
      "outputs": []
    },
    {
      "cell_type": "markdown",
      "source": [
        "Zmień nazwy miesiecy na zmienne liczbowe zgodnie z kolejnością miesięcy"
      ],
      "metadata": {
        "id": "s6WEtmF-lHND"
      }
    },
    {
      "cell_type": "code",
      "source": [
        "month_mapping = {\n",
        "    \"January\": 1, \"February\": 2, \"March\": 3, \"April\": 4, \"May\": 5, \"June\": 6,\n",
        "    \"July\": 7, \"August\": 8, \"September\": 9, \"October\": 10, \"November\": 11, \"December\": 12\n",
        "}\n",
        "\n",
        "\n",
        "\n",
        "\n",
        "\n"
      ],
      "metadata": {
        "id": "vr6s99B1YMHC"
      },
      "execution_count": null,
      "outputs": []
    },
    {
      "cell_type": "markdown",
      "source": [
        "Zakoduj zmienne tekstowe: 'Occupation', 'Type_of_Loan', 'Payment_Behaviour', 'Credit_Mix', użyj LabelEncodera"
      ],
      "metadata": {
        "id": "wHYhUCgNNeR_"
      }
    },
    {
      "cell_type": "code",
      "source": [],
      "metadata": {
        "id": "AeCEzmvZlebi"
      },
      "execution_count": null,
      "outputs": []
    },
    {
      "cell_type": "markdown",
      "source": [
        "Przelicz kolumne Credit_History_Age na liczbę mięsiecy\n"
      ],
      "metadata": {
        "id": "f9-rD3Yklibx"
      }
    },
    {
      "cell_type": "code",
      "source": [],
      "metadata": {
        "id": "dQtgMu49ljHx"
      },
      "execution_count": null,
      "outputs": []
    },
    {
      "cell_type": "code",
      "source": [
        "# Rozdzielanie wartości po przecinku i usuwanie zbędnych spacji\n",
        "df['Type_of_Loan'] = df['Type_of_Loan'].str.split(', ')\n",
        "\n",
        "# Użycie MultiLabelBinarizer do One-Hot Encoding\n",
        "mlb = MultiLabelBinarizer()\n",
        "encoded_df = pd.DataFrame(mlb.fit_transform(df['Type_of_Loan']), columns=mlb.classes_)\n",
        "\n",
        "# Łączenie z oryginalnym DataFrame\n",
        "df = df.join(encoded_df).drop(columns=['Type_of_Loan'])\n",
        "\n",
        "print(df.head())"
      ],
      "metadata": {
        "id": "V5kZULgXV9jE"
      },
      "execution_count": null,
      "outputs": []
    },
    {
      "cell_type": "markdown",
      "source": [
        "Zmien inne zmienne na numeryczne"
      ],
      "metadata": {
        "id": "BIZ0jlOkNUr7"
      }
    },
    {
      "cell_type": "markdown",
      "source": [
        "Uzupełnij braki w kolumnie Monthly_Inhand_Salary,  Annual_Income, .. średnią"
      ],
      "metadata": {
        "id": "iEaaedrkZazE"
      }
    },
    {
      "cell_type": "code",
      "source": [],
      "metadata": {
        "id": "fsqzLQJoluEC"
      },
      "execution_count": null,
      "outputs": []
    },
    {
      "cell_type": "markdown",
      "source": [
        "Narysuj rozkłady zmiennych 'Annual_Income', 'Monthly_Balance'"
      ],
      "metadata": {
        "id": "tDsQgHwDaPIy"
      }
    },
    {
      "cell_type": "code",
      "source": [],
      "metadata": {
        "id": "VDiN9dtkl2qz"
      },
      "execution_count": null,
      "outputs": []
    },
    {
      "cell_type": "markdown",
      "source": [
        "usuń wartości odstające (w przypadku wieku wszystkie ujemne i te powyzej 100 lat)"
      ],
      "metadata": {
        "id": "BNJ-R8r6gPVs"
      }
    },
    {
      "cell_type": "code",
      "source": [],
      "metadata": {
        "id": "N3MhaQ9_l2-G"
      },
      "execution_count": null,
      "outputs": []
    },
    {
      "cell_type": "markdown",
      "source": [
        "Zwizualizuj korelacje między zmiennymi"
      ],
      "metadata": {
        "id": "nPMd_OGqgHhL"
      }
    },
    {
      "cell_type": "code",
      "source": [],
      "metadata": {
        "id": "ScSHId1Sl-z5"
      },
      "execution_count": null,
      "outputs": []
    }
  ]
}